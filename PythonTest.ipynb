{
 "cells": [
  {
   "cell_type": "code",
   "execution_count": 1,
   "id": "2baaf833",
   "metadata": {},
   "outputs": [],
   "source": [
    "import requests\n",
    "from bs4 import BeautifulSoup"
   ]
  },
  {
   "cell_type": "markdown",
   "id": "de61f5c6",
   "metadata": {},
   "source": [
    "Useragent URL will be different for every PC chrome"
   ]
  },
  {
   "cell_type": "code",
   "execution_count": 2,
   "id": "aa325e60",
   "metadata": {},
   "outputs": [],
   "source": [
    "headers = {'User-Agent', 'Mozilla/5.0 (Windows NT 10.0; Win64; x64) AppleWebKit/537.36 (KHTML, like Gecko) Chrome/94.0.4606.81 Safari/537.36 Edg/94.0.992.50'}"
   ]
  },
  {
   "cell_type": "markdown",
   "id": "15cff7a0",
   "metadata": {},
   "source": [
    "Yahoo Finance API Pricing URL"
   ]
  },
  {
   "cell_type": "code",
   "execution_count": 3,
   "id": "4e1118a2",
   "metadata": {},
   "outputs": [],
   "source": [
    "URL = 'https://finance.yahoo.com/quote/F'"
   ]
  },
  {
   "cell_type": "markdown",
   "id": "ba4d1901",
   "metadata": {},
   "source": [
    "REST API call"
   ]
  },
  {
   "cell_type": "code",
   "execution_count": 4,
   "id": "a22be42c",
   "metadata": {},
   "outputs": [],
   "source": [
    "r = requests.get(URL)"
   ]
  },
  {
   "cell_type": "code",
   "execution_count": 5,
   "id": "f0cebd4d",
   "metadata": {},
   "outputs": [
    {
     "name": "stdout",
     "output_type": "stream",
     "text": [
      "200\n"
     ]
    }
   ],
   "source": [
    "print(r.status_code)"
   ]
  },
  {
   "cell_type": "code",
   "execution_count": 6,
   "id": "8af3b090",
   "metadata": {},
   "outputs": [],
   "source": [
    "soup = BeautifulSoup(r.text, 'html.parser')"
   ]
  },
  {
   "cell_type": "markdown",
   "id": "06bc7d62",
   "metadata": {},
   "source": [
    "Yahoo Finance API JSON class details"
   ]
  },
  {
   "cell_type": "code",
   "execution_count": 7,
   "id": "654e55fa",
   "metadata": {},
   "outputs": [],
   "source": [
    "price = soup.find('div', {'class':'D(ib) Mend(20px)'}).find_all('span')[0].text\n",
    "change = soup.find('div', {'class':'D(ib) Mend(20px)'}).find_all('span')[1].text"
   ]
  },
  {
   "cell_type": "markdown",
   "id": "3036206c",
   "metadata": {},
   "source": [
    "Last Price Details of the Instrument's"
   ]
  },
  {
   "cell_type": "code",
   "execution_count": 8,
   "id": "18304d17",
   "metadata": {},
   "outputs": [
    {
     "name": "stdout",
     "output_type": "stream",
     "text": [
      "15.70 +0.25 (+1.62%)\n"
     ]
    }
   ],
   "source": [
    "print(price, change)"
   ]
  }
 ],
 "metadata": {
  "kernelspec": {
   "display_name": "Python 3",
   "language": "python",
   "name": "python3"
  },
  "language_info": {
   "codemirror_mode": {
    "name": "ipython",
    "version": 3
   },
   "file_extension": ".py",
   "mimetype": "text/x-python",
   "name": "python",
   "nbconvert_exporter": "python",
   "pygments_lexer": "ipython3",
   "version": "3.8.8"
  }
 },
 "nbformat": 4,
 "nbformat_minor": 5
}
